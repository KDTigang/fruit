{
 "cells": [
  {
   "cell_type": "code",
   "execution_count": 8,
   "id": "db8e69f3",
   "metadata": {},
   "outputs": [],
   "source": [
    "import tensorflow as tf\n",
    "from tensorflow.keras import layers, models\n",
    "from tensorflow.keras.preprocessing.image import ImageDataGenerator\n",
    "from tensorflow.keras.callbacks import ModelCheckpoint,EarlyStopping\n",
    "\n",
    "import os\n",
    "\n",
    "import tensorflow as tf\n",
    "from tensorflow import keras"
   ]
  },
  {
   "cell_type": "code",
   "execution_count": 9,
   "id": "0787425b",
   "metadata": {},
   "outputs": [],
   "source": [
    "data=\"datas/train\"\n"
   ]
  },
  {
   "cell_type": "code",
   "execution_count": null,
   "id": "ba348c66",
   "metadata": {},
   "outputs": [
    {
     "name": "stdout",
     "output_type": "stream",
     "text": [
      "Found 13493 images belonging to 33 classes.\n",
      "Found 3361 images belonging to 33 classes.\n"
     ]
    }
   ],
   "source": [
    "datas=ImageDataGenerator(rescale=1/255,validation_split=0.2)\n",
    "\n",
    "traiM= tf.keras.utils.image_dataset_from_directory(\n",
    "    directory=data,\n",
    "    target_size=(100,100),\n",
    "    batch_size=30,\n",
    "    class_mode='categorical',\n",
    "    subset='training',\n",
    "    seed=42,\n",
    ")\n",
    "\n",
    "testM= tf.keras.utils.image_dataset_from_directory(\n",
    "    directory=data,\n",
    "    target_size=(100,100),\n",
    "    batch_size=30,\n",
    "    class_mode='categorical',\n",
    "    subset='validation',\n",
    "    seed=42,\n",
    ")"
   ]
  },
  {
   "cell_type": "code",
   "execution_count": 11,
   "id": "eeff4519",
   "metadata": {},
   "outputs": [],
   "source": [
    "model=models.Sequential([\n",
    "    layers.Conv2D(filters=65,kernel_size=(3,3),activation='relu',input_shape=(100,100,3)),\n",
    "    layers.MaxPool2D(2,2),\n",
    "    layers.Conv2D(filters=128,kernel_size=(3,3),activation='relu'),\n",
    "    layers.MaxPool2D(2,2),\n",
    "    layers.Dropout(0.5),\n",
    "\n",
    "    layers.Flatten(),\n",
    "\n",
    "    layers.Dense(units=64,activation='relu'),\n",
    "    layers.Dense(units=33,activation='softmax'),\n",
    "])"
   ]
  },
  {
   "cell_type": "code",
   "execution_count": 12,
   "id": "85bad067",
   "metadata": {},
   "outputs": [],
   "source": [
    "model.compile(optimizer='Adam',\n",
    "               loss=tf.keras.losses.CategoricalCrossentropy(),\n",
    "                 metrics=['accuracy'],\n",
    "                   loss_weights=None,\n",
    "           )"
   ]
  },
  {
   "cell_type": "code",
   "execution_count": null,
   "id": "0a573809",
   "metadata": {},
   "outputs": [
    {
     "name": "stdout",
     "output_type": "stream",
     "text": [
      "Epoch 1/5\n",
      "\u001b[1m450/450\u001b[0m \u001b[32m━━━━━━━━━━━━━━━━━━━━\u001b[0m\u001b[37m\u001b[0m \u001b[1m71s\u001b[0m 154ms/step - accuracy: 0.6876 - loss: 1.1386 - val_accuracy: 1.0000 - val_loss: 0.0024\n",
      "Epoch 2/5\n",
      "\u001b[1m450/450\u001b[0m \u001b[32m━━━━━━━━━━━━━━━━━━━━\u001b[0m\u001b[37m\u001b[0m \u001b[1m69s\u001b[0m 153ms/step - accuracy: 0.9983 - loss: 0.0086 - val_accuracy: 1.0000 - val_loss: 9.7402e-04\n",
      "Epoch 3/5\n",
      "\u001b[1m450/450\u001b[0m \u001b[32m━━━━━━━━━━━━━━━━━━━━\u001b[0m\u001b[37m\u001b[0m \u001b[1m70s\u001b[0m 156ms/step - accuracy: 1.0000 - loss: 4.7529e-04 - val_accuracy: 1.0000 - val_loss: 1.0473e-04\n",
      "Epoch 4/5\n",
      "\u001b[1m450/450\u001b[0m \u001b[32m━━━━━━━━━━━━━━━━━━━━\u001b[0m\u001b[37m\u001b[0m \u001b[1m71s\u001b[0m 157ms/step - accuracy: 0.9999 - loss: 4.0117e-04 - val_accuracy: 0.9125 - val_loss: 0.2461\n",
      "Epoch 5/5\n",
      "\u001b[1m 25/450\u001b[0m \u001b[32m━\u001b[0m\u001b[37m━━━━━━━━━━━━━━━━━━━\u001b[0m \u001b[1m1:01\u001b[0m 146ms/step - accuracy: 0.9131 - loss: 0.2721"
     ]
    }
   ],
   "source": [
    "model.fit(traiM,\n",
    "        batch_size=None, epochs=5,\n",
    "        verbose=1, validation_data=testM,\n",
    "        validation_steps=None,\n",
    "        validation_freq=1)"
   ]
  },
  {
   "cell_type": "code",
   "execution_count": null,
   "id": "d14ae0d1",
   "metadata": {},
   "outputs": [
    {
     "name": "stderr",
     "output_type": "stream",
     "text": [
      "WARNING:absl:You are saving your model as an HDF5 file via `model.save()` or `keras.saving.save_model(model)`. This file format is considered legacy. We recommend using instead the native Keras format, e.g. `model.save('my_model.keras')` or `keras.saving.save_model(model, 'my_model.keras')`. \n"
     ]
    }
   ],
   "source": [
    "model.save(\"model_epoch_10.h5\")"
   ]
  }
 ],
 "metadata": {
  "kernelspec": {
   "display_name": "pro_daniel",
   "language": "python",
   "name": "python3"
  },
  "language_info": {
   "codemirror_mode": {
    "name": "ipython",
    "version": 3
   },
   "file_extension": ".py",
   "mimetype": "text/x-python",
   "name": "python",
   "nbconvert_exporter": "python",
   "pygments_lexer": "ipython3",
   "version": "3.12.11"
  }
 },
 "nbformat": 4,
 "nbformat_minor": 5
}
